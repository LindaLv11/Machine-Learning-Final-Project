{
  "nbformat": 4,
  "nbformat_minor": 0,
  "metadata": {
    "colab": {
      "name": "ml_ece",
      "version": "0.3.2",
      "provenance": [],
      "toc_visible": true
    },
    "kernelspec": {
      "name": "python3",
      "display_name": "Python 3"
    }
  },
  "cells": [
    {
      "cell_type": "code",
      "metadata": {
        "id": "uCUh6NKpm8eA",
        "colab_type": "code",
        "outputId": "b071e506-88b3-4a6e-fc68-b28984395842",
        "colab": {
          "base_uri": "https://localhost:8080/",
          "height": 35
        }
      },
      "source": [
        "import geopandas as gpd\n",
        "import pandas as pd\n",
        "import numpy as np\n",
        "import urllib\n",
        "import requests\n",
        "import os\n",
        "import io\n",
        "import json\n",
        "import pylab as pl\n",
        "import shapely\n",
        "from fiona.crs import from_epsg\n",
        "%pylab inline"
      ],
      "execution_count": 0,
      "outputs": [
        {
          "output_type": "stream",
          "text": [
            "Populating the interactive namespace from numpy and matplotlib\n"
          ],
          "name": "stdout"
        }
      ]
    },
    {
      "cell_type": "code",
      "metadata": {
        "id": "nvuaTfLEKdZw",
        "colab_type": "code",
        "colab": {}
      },
      "source": [
        "from sklearn.cluster import KMeans"
      ],
      "execution_count": 0,
      "outputs": []
    },
    {
      "cell_type": "markdown",
      "metadata": {
        "id": "ppa7nC5Znznf",
        "colab_type": "text"
      },
      "source": [
        "##  Load Real-Time Traffic Speed Data From NYC Open Data. \n",
        "\n",
        "Note: The data has  24,226,527 rows. \n",
        "\n",
        "\n"
      ]
    },
    {
      "cell_type": "markdown",
      "metadata": {
        "id": "bK5knbmszT_m",
        "colab_type": "text"
      },
      "source": [
        "1. Draw a plot of the speed to understand the distribution of the speed. "
      ]
    },
    {
      "cell_type": "code",
      "metadata": {
        "id": "xCaPCZ93ot1x",
        "colab_type": "code",
        "colab": {}
      },
      "source": [
        "url = 'https://data.cityofnewyork.us/resource/i4gi-tjb9.csv'\n",
        "df = pd.read_csv(url, nrows = 1000, usecols = ['id', 'borough','data_as_of', 'speed','link_points','travel_time'])"
      ],
      "execution_count": 0,
      "outputs": []
    },
    {
      "cell_type": "code",
      "metadata": {
        "id": "BbjMi-CE7xLW",
        "colab_type": "code",
        "outputId": "96c3bfde-354b-41cb-91c4-fad312ccfa0b",
        "colab": {
          "base_uri": "https://localhost:8080/",
          "height": 80
        }
      },
      "source": [
        "df.head(1)"
      ],
      "execution_count": 0,
      "outputs": [
        {
          "output_type": "execute_result",
          "data": {
            "text/html": [
              "<div>\n",
              "<style scoped>\n",
              "    .dataframe tbody tr th:only-of-type {\n",
              "        vertical-align: middle;\n",
              "    }\n",
              "\n",
              "    .dataframe tbody tr th {\n",
              "        vertical-align: top;\n",
              "    }\n",
              "\n",
              "    .dataframe thead th {\n",
              "        text-align: right;\n",
              "    }\n",
              "</style>\n",
              "<table border=\"1\" class=\"dataframe\">\n",
              "  <thead>\n",
              "    <tr style=\"text-align: right;\">\n",
              "      <th></th>\n",
              "      <th>borough</th>\n",
              "      <th>data_as_of</th>\n",
              "      <th>id</th>\n",
              "      <th>link_points</th>\n",
              "      <th>speed</th>\n",
              "      <th>travel_time</th>\n",
              "    </tr>\n",
              "  </thead>\n",
              "  <tbody>\n",
              "    <tr>\n",
              "      <th>0</th>\n",
              "      <td>Brooklyn</td>\n",
              "      <td>2019-04-30T17:33:12.000</td>\n",
              "      <td>259</td>\n",
              "      <td>40.6756,-74.841 40.67643,-74.001241 40.6772405...</td>\n",
              "      <td>11.8</td>\n",
              "      <td>329</td>\n",
              "    </tr>\n",
              "  </tbody>\n",
              "</table>\n",
              "</div>"
            ],
            "text/plain": [
              "    borough               data_as_of   id  \\\n",
              "0  Brooklyn  2019-04-30T17:33:12.000  259   \n",
              "\n",
              "                                         link_points  speed  travel_time  \n",
              "0  40.6756,-74.841 40.67643,-74.001241 40.6772405...   11.8          329  "
            ]
          },
          "metadata": {
            "tags": []
          },
          "execution_count": 89
        }
      ]
    },
    {
      "cell_type": "markdown",
      "metadata": {
        "id": "_mB2-XFc-qha",
        "colab_type": "text"
      },
      "source": [
        "## The distribution of the speed can be seen from the histogram"
      ]
    },
    {
      "cell_type": "code",
      "metadata": {
        "id": "R2bsjSR97hFD",
        "colab_type": "code",
        "outputId": "dd33631e-f6a2-4aa1-a318-560b962ed558",
        "colab": {
          "base_uri": "https://localhost:8080/",
          "height": 331
        }
      },
      "source": [
        "plt.title('Distribution of speed')\n",
        "plt.hist(df.speed)\n",
        "plt.xlabel('the range of the speed')\n",
        "plt.ylabel('Frequency')\n",
        "plt.legend()"
      ],
      "execution_count": 0,
      "outputs": [
        {
          "output_type": "stream",
          "text": [
            "No handles with labels found to put in legend.\n"
          ],
          "name": "stderr"
        },
        {
          "output_type": "execute_result",
          "data": {
            "text/plain": [
              "<matplotlib.legend.Legend at 0x7fd7bdf31c18>"
            ]
          },
          "metadata": {
            "tags": []
          },
          "execution_count": 90
        },
        {
          "output_type": "display_data",
          "data": {
            "image/png": "[encoded data removed]",
            "text/plain": [
              "<Figure size 432x288 with 1 Axes>"
            ]
          },
          "metadata": {
            "tags": []
          }
        }
      ]
    },
    {
      "cell_type": "markdown",
      "metadata": {
        "id": "SY7Wja1n_ZRJ",
        "colab_type": "text"
      },
      "source": [
        "## Further explore the traffic speed data by calculating average speed per time period. \n",
        "\n",
        "\n",
        "1. The column - Data_as_of represents the time. Time is accurate to the second. We decided to use minutes as the time period. \n",
        "\n",
        "A function to transform the data in the 'data_as_of' column is implemented here:"
      ]
    },
    {
      "cell_type": "markdown",
      "metadata": {
        "id": "ZoQNgzxaGNTw",
        "colab_type": "text"
      },
      "source": [
        "Example Before Transformation:"
      ]
    },
    {
      "cell_type": "code",
      "metadata": {
        "id": "J9c9hQTU-UYP",
        "colab_type": "code",
        "outputId": "4a514c38-5d1a-4e4e-b2b5-5297d3436e76",
        "colab": {
          "base_uri": "https://localhost:8080/",
          "height": 35
        }
      },
      "source": [
        "df['data_as_of'][0]"
      ],
      "execution_count": 0,
      "outputs": [
        {
          "output_type": "execute_result",
          "data": {
            "text/plain": [
              "'2019-04-30T17:33:12.000'"
            ]
          },
          "metadata": {
            "tags": []
          },
          "execution_count": 91
        }
      ]
    },
    {
      "cell_type": "code",
      "metadata": {
        "id": "igIKCLSOEMHk",
        "colab_type": "code",
        "colab": {}
      },
      "source": [
        "def turn_format(x):\n",
        "  hour = pd.to_datetime(x).hour\n",
        "  mint = pd.to_datetime(x).minute\n",
        "  return hour + mint / 10"
      ],
      "execution_count": 0,
      "outputs": []
    },
    {
      "cell_type": "code",
      "metadata": {
        "id": "-a06xh5jC6mg",
        "colab_type": "code",
        "colab": {}
      },
      "source": [
        "df['data_as_of'] = df['data_as_of'].apply(turn_format)"
      ],
      "execution_count": 0,
      "outputs": []
    },
    {
      "cell_type": "markdown",
      "metadata": {
        "id": "2soHshYhEjyz",
        "colab_type": "text"
      },
      "source": [
        "Example After Transformation:"
      ]
    },
    {
      "cell_type": "code",
      "metadata": {
        "id": "9y1U1M3DGGpc",
        "colab_type": "code",
        "outputId": "77e4c3ea-7e47-45a8-9ec1-e3e7c821a43a",
        "colab": {
          "base_uri": "https://localhost:8080/",
          "height": 35
        }
      },
      "source": [
        "df['data_as_of'][0]"
      ],
      "execution_count": 0,
      "outputs": [
        {
          "output_type": "execute_result",
          "data": {
            "text/plain": [
              "20.3"
            ]
          },
          "metadata": {
            "tags": []
          },
          "execution_count": 94
        }
      ]
    },
    {
      "cell_type": "code",
      "metadata": {
        "id": "oUK-CGvzHJ9r",
        "colab_type": "code",
        "colab": {}
      },
      "source": [
        "speed_min = df.groupby(['data_as_of'])['speed'].mean()"
      ],
      "execution_count": 0,
      "outputs": []
    },
    {
      "cell_type": "code",
      "metadata": {
        "id": "By-GU_YsHkf0",
        "colab_type": "code",
        "outputId": "2726706b-b0bb-44b4-b1bb-3ba0b487f277",
        "colab": {
          "base_uri": "https://localhost:8080/",
          "height": 143
        }
      },
      "source": [
        "speed_min.head()"
      ],
      "execution_count": 0,
      "outputs": [
        {
          "output_type": "execute_result",
          "data": {
            "text/plain": [
              "data_as_of\n",
              "17.3    29.623556\n",
              "17.8    29.618889\n",
              "18.3    29.389037\n",
              "18.8    28.638074\n",
              "19.3    28.021407\n",
              "Name: speed, dtype: float64"
            ]
          },
          "metadata": {
            "tags": []
          },
          "execution_count": 96
        }
      ]
    },
    {
      "cell_type": "markdown",
      "metadata": {
        "id": "YnhAZlyRLdvK",
        "colab_type": "text"
      },
      "source": [
        "2. After transformation, firstly, we plot the average speed against hour.mint"
      ]
    },
    {
      "cell_type": "code",
      "metadata": {
        "id": "Kp65CHL5L4M7",
        "colab_type": "code",
        "outputId": "0be70661-5278-4c25-97c6-b699a01a2c81",
        "colab": {
          "base_uri": "https://localhost:8080/",
          "height": 301
        }
      },
      "source": [
        "plt.plot(speed_min,'o', label = 'average speed')\n",
        "plt.legend()\n",
        "plt.xlabel('hour.minute')\n",
        "plt.ylabel('average speed')"
      ],
      "execution_count": 0,
      "outputs": [
        {
          "output_type": "execute_result",
          "data": {
            "text/plain": [
              "Text(0, 0.5, 'average speed')"
            ]
          },
          "metadata": {
            "tags": []
          },
          "execution_count": 99
        },
        {
          "output_type": "display_data",
          "data": {
            "image/png": "[encoded data removed]",
            "text/plain": [
              "<Figure size 432x288 with 1 Axes>"
            ]
          },
          "metadata": {
            "tags": []
          }
        }
      ]
    },
    {
      "cell_type": "markdown",
      "metadata": {
        "id": "r17qgw-9NbXW",
        "colab_type": "text"
      },
      "source": [
        "3. Fit a regression model on x = hour/minute\n",
        "y = average speed. \n",
        "\n",
        "To find the best model order. We use cross-validation to do the model selection problem. "
      ]
    },
    {
      "cell_type": "code",
      "metadata": {
        "id": "fAZiVgJrM_yY",
        "colab_type": "code",
        "colab": {}
      },
      "source": [
        "//continued in the other file"
      ],
      "execution_count": 0,
      "outputs": []
    }
  ]
}