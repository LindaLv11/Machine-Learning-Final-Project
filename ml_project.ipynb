{
 "cells": [
  {
   "cell_type": "code",
   "execution_count": 1,
   "metadata": {},
   "outputs": [
    {
     "name": "stdout",
     "output_type": "stream",
     "text": [
      "Populating the interactive namespace from numpy and matplotlib\n"
     ]
    },
    {
     "name": "stderr",
     "output_type": "stream",
     "text": [
      "/nfshome/bl2621/.conda/envs/ccwEnv/lib/python3.5/site-packages/IPython/core/magics/pylab.py:160: UserWarning: pylab import has clobbered these variables: ['plt']\n",
      "`%matplotlib` prevents importing * from pylab and numpy\n",
      "  \"\\n`%matplotlib` prevents importing * from pylab and numpy\"\n"
     ]
    }
   ],
   "source": [
    "import pandas as pd\n",
    "import geopandas as gpd\n",
    "import matplotlib.pylab as plt\n",
    "% pylab inline"
   ]
  },
  {
   "cell_type": "code",
   "execution_count": 2,
   "metadata": {},
   "outputs": [],
   "source": [
    "from shapely.geometry import Polygon, Point"
   ]
  },
  {
   "cell_type": "code",
   "execution_count": 3,
   "metadata": {},
   "outputs": [],
   "source": [
    "import shapely"
   ]
  },
  {
   "cell_type": "code",
   "execution_count": 4,
   "metadata": {},
   "outputs": [],
   "source": [
    "import urllib"
   ]
  },
  {
   "cell_type": "code",
   "execution_count": 5,
   "metadata": {},
   "outputs": [],
   "source": [
    "import os"
   ]
  },
  {
   "cell_type": "code",
   "execution_count": 6,
   "metadata": {},
   "outputs": [],
   "source": [
    "from fiona.crs import from_epsg"
   ]
  },
  {
   "cell_type": "code",
   "execution_count": 7,
   "metadata": {},
   "outputs": [],
   "source": [
    "from mpl_toolkits.mplot3d import Axes3D"
   ]
  },
  {
   "cell_type": "code",
   "execution_count": 8,
   "metadata": {},
   "outputs": [],
   "source": [
    "import pykrige"
   ]
  },
  {
   "cell_type": "code",
   "execution_count": 9,
   "metadata": {},
   "outputs": [],
   "source": [
    "import numpy as np"
   ]
  },
  {
   "cell_type": "code",
   "execution_count": 10,
   "metadata": {},
   "outputs": [],
   "source": [
    "import sklearn"
   ]
  },
  {
   "cell_type": "code",
   "execution_count": 11,
   "metadata": {},
   "outputs": [],
   "source": [
    "from pykrige.rk import Krige\n",
    "from pykrige.compat import GridSearchCV\n",
    "from pykrige.ok import OrdinaryKriging"
   ]
  },
  {
   "cell_type": "markdown",
   "metadata": {},
   "source": [
    "## Down load the data "
   ]
  },
  {
   "cell_type": "code",
   "execution_count": 12,
   "metadata": {},
   "outputs": [],
   "source": [
    "url = 'https://data.cityofnewyork.us/api/views/i4gi-tjb9/rows.csv?accessType=DOWNLOAD'\n",
    "pd.read_csv(url, usecols = ['ID', 'BOROUGH','DATA_AS_OF', 'SPEED','LINK_POINTS','TRAVEL_TIME']).to_csv('DOT_Traffic_Speeds_NBE.csv')"
   ]
  },
  {
   "cell_type": "code",
   "execution_count": 12,
   "metadata": {},
   "outputs": [],
   "source": [
    "df = pd.read_csv('DOT_Traffic_Speeds_NBE.csv',usecols = ['ID', 'BOROUGH','DATA_AS_OF', 'SPEED','LINK_POINTS','TRAVEL_TIME'])"
   ]
  },
  {
   "cell_type": "code",
   "execution_count": 13,
   "metadata": {},
   "outputs": [],
   "source": [
    "gdf = df.dropna()"
   ]
  },
  {
   "cell_type": "code",
   "execution_count": 14,
   "metadata": {},
   "outputs": [],
   "source": [
    "def turn_format_latitude(m):\n",
    "    lati = []\n",
    "    for x in [i.split(',') for i in m.split(' ')]:\n",
    "        if len(x) >= 2:\n",
    "            try:\n",
    "                lati.append(float(x[0]))\n",
    "            except:\n",
    "                pass\n",
    "    return np.mean(lati)\n",
    "            "
   ]
  },
  {
   "cell_type": "code",
   "execution_count": 15,
   "metadata": {},
   "outputs": [],
   "source": [
    "def turn_format_longitude(m):\n",
    "    longi = []\n",
    "    for x in [i.split(',') for i in m.split(' ')]:\n",
    "        if len(x) >= 2:\n",
    "            try:\n",
    "                longi.append(float(x[1]))\n",
    "            except:\n",
    "                pass\n",
    "    return np.mean(longi)\n",
    "            "
   ]
  },
  {
   "cell_type": "code",
   "execution_count": 16,
   "metadata": {},
   "outputs": [],
   "source": [
    "gdf['longitude'] = gdf['LINK_POINTS'].apply(turn_format_longitude)"
   ]
  },
  {
   "cell_type": "code",
   "execution_count": 17,
   "metadata": {},
   "outputs": [],
   "source": [
    "gdf['latitude'] = gdf['LINK_POINTS'].apply(turn_format_latitude)"
   ]
  },
  {
   "cell_type": "code",
   "execution_count": 18,
   "metadata": {},
   "outputs": [],
   "source": [
    "gdf['lonlat'] = list(zip(gdf.longitude, gdf.latitude))\n",
    "gdf['geometry'] = gdf[['lonlat']].applymap(lambda x:shapely.geometry.Point(x))"
   ]
  },
  {
   "cell_type": "code",
   "execution_count": 19,
   "metadata": {},
   "outputs": [],
   "source": [
    "gdf = gpd.GeoDataFrame(gdf)"
   ]
  },
  {
   "cell_type": "code",
   "execution_count": 20,
   "metadata": {},
   "outputs": [],
   "source": [
    "def less_than_70(x):\n",
    "    return x < -70"
   ]
  },
  {
   "cell_type": "code",
   "execution_count": 21,
   "metadata": {},
   "outputs": [],
   "source": [
    "gdf = gdf[gdf['longitude'].apply(less_than_70)]"
   ]
  },
  {
   "cell_type": "code",
   "execution_count": 22,
   "metadata": {},
   "outputs": [],
   "source": [
    "# gdf.crs = from_epsg(4326)\n",
    "# gdf.to_crs(epsg=2263, inplace = True)"
   ]
  },
  {
   "cell_type": "code",
   "execution_count": 72,
   "metadata": {},
   "outputs": [],
   "source": [
    "# url = \"https://data.cityofnewyork.us/api/geospatial/fxpq-c8ku?method=export&format=Shapefile\"\n",
    "# urllib.request.urlretrieve(url, \"file.gz\")\n",
    "# !unzip file.gz"
   ]
  },
  {
   "cell_type": "code",
   "execution_count": 23,
   "metadata": {},
   "outputs": [],
   "source": [
    "ct = gpd.GeoDataFrame.from_file(\"geo_export_45386e0f-466c-4969-9964-b525ce8221f9.shp\")"
   ]
  },
  {
   "cell_type": "code",
   "execution_count": 24,
   "metadata": {},
   "outputs": [],
   "source": [
    "# ct.to_crs(epsg=2263, inplace=True)"
   ]
  },
  {
   "cell_type": "code",
   "execution_count": 25,
   "metadata": {},
   "outputs": [
    {
     "data": {
      "image/png": "[encoded data removed]",
      "text/plain": [
       "<Figure size 432x288 with 1 Axes>"
      ]
     },
     "metadata": {
      "needs_background": "light"
     },
     "output_type": "display_data"
    }
   ],
   "source": [
    "ax = ct.plot(facecolor = 'w', edgecolor = 'k')\n",
    "gdf.plot(ax = ax)\n",
    "ax.axis('off')\n",
    "plt.savefig('plot.png')"
   ]
  },
  {
   "cell_type": "code",
   "execution_count": 27,
   "metadata": {
    "scrolled": false
   },
   "outputs": [
    {
     "name": "stderr",
     "output_type": "stream",
     "text": [
      "/nfshome/bl2621/.conda/envs/ccwEnv/lib/python3.5/site-packages/sklearn/model_selection/_split.py:2053: FutureWarning: You should specify a value for 'cv' instead of relying on the default value. The default value will change from 3 to 5 in version 0.22.\n",
      "  warnings.warn(CV_WARNING, FutureWarning)\n",
      "[Parallel(n_jobs=1)]: Using backend SequentialBackend with 1 concurrent workers.\n"
     ]
    },
    {
     "name": "stdout",
     "output_type": "stream",
     "text": [
      "Fitting 3 folds for each of 8 candidates, totalling 24 fits\n",
      "n_closest_points will be ignored for UniversalKriging\n",
      "n_closest_points will be ignored for UniversalKriging\n",
      "n_closest_points will be ignored for UniversalKriging\n",
      "n_closest_points will be ignored for UniversalKriging\n",
      "n_closest_points will be ignored for UniversalKriging\n",
      "n_closest_points will be ignored for UniversalKriging\n",
      "n_closest_points will be ignored for UniversalKriging\n",
      "n_closest_points will be ignored for UniversalKriging\n",
      "n_closest_points will be ignored for UniversalKriging\n",
      "n_closest_points will be ignored for UniversalKriging\n",
      "n_closest_points will be ignored for UniversalKriging\n",
      "n_closest_points will be ignored for UniversalKriging\n",
      "n_closest_points will be ignored for UniversalKriging\n",
      "n_closest_points will be ignored for UniversalKriging\n",
      "n_closest_points will be ignored for UniversalKriging\n",
      "n_closest_points will be ignored for UniversalKriging\n",
      "n_closest_points will be ignored for UniversalKriging\n",
      "n_closest_points will be ignored for UniversalKriging\n",
      "n_closest_points will be ignored for UniversalKriging\n",
      "n_closest_points will be ignored for UniversalKriging\n",
      "n_closest_points will be ignored for UniversalKriging\n",
      "n_closest_points will be ignored for UniversalKriging\n",
      "n_closest_points will be ignored for UniversalKriging\n",
      "n_closest_points will be ignored for UniversalKriging\n"
     ]
    },
    {
     "name": "stderr",
     "output_type": "stream",
     "text": [
      "[Parallel(n_jobs=1)]: Done  24 out of  24 | elapsed: 41.3min finished\n",
      "/nfshome/bl2621/.conda/envs/ccwEnv/lib/python3.5/site-packages/sklearn/model_selection/_search.py:841: DeprecationWarning: The default of the `iid` parameter will change from True to False in version 0.22 and will be removed in 0.24. This will change numeric results when test-set sizes are unequal.\n",
      "  DeprecationWarning)\n"
     ]
    },
    {
     "name": "stdout",
     "output_type": "stream",
     "text": [
      "best_score R² = 0.815\n",
      "best_params =  {'variogram_model': 'spherical', 'method': 'ordinary'}\n",
      "\n",
      "CV results::\n",
      " - mean_test_score : [   0.81546603    0.81546603    0.81546603    0.81546603  -67.60376595\n",
      "  -21.17498033 -132.7986728   -45.02378838]\n",
      " - mean_train_score : [   0.88067829    0.88067829    0.88067829    0.88067829  -66.53881201\n",
      "  -20.48993977 -132.12011776  -44.36830954]\n",
      " - param_method : ['ordinary' 'ordinary' 'ordinary' 'ordinary' 'universal' 'universal'\n",
      " 'universal' 'universal']\n",
      " - param_variogram_model : ['linear' 'power' 'gaussian' 'spherical' 'linear' 'power' 'gaussian'\n",
      " 'spherical']\n"
     ]
    },
    {
     "name": "stderr",
     "output_type": "stream",
     "text": [
      "/nfshome/bl2621/.conda/envs/ccwEnv/lib/python3.5/site-packages/sklearn/utils/deprecation.py:125: FutureWarning: You are accessing a training score ('mean_train_score'), which will not be available by default any more in 0.21. If you need training scores, please set return_train_score=True\n",
      "  warnings.warn(*warn_args, **warn_kwargs)\n"
     ]
    }
   ],
   "source": [
    "param_dict = {\"method\": [\"ordinary\", \"universal\"],\n",
    "              \"variogram_model\": [\"linear\", \"power\", \"gaussian\", \"spherical\"],\n",
    "#                 \"nlags\": [1, 2, 3],\n",
    "#                \"weight\": [True, False]\n",
    "              }\n",
    "\n",
    "estimator = GridSearchCV(Krige(), param_dict, verbose=True)\n",
    "# dummy data\n",
    "lon = gdf.longitude\n",
    "lat = gdf.latitude\n",
    "z = gdf.SPEED\n",
    "\n",
    "X = np.column_stack((lon, lat))\n",
    "\n",
    "# run the gridsearch\n",
    "estimator.fit(X=X, y=z)\n",
    "\n",
    "if hasattr(estimator, 'best_score_'):\n",
    "    print('best_score R² = {:.3f}'.format(estimator.best_score_))\n",
    "    print('best_params = ', estimator.best_params_)\n",
    "\n",
    "print('\\nCV results::')\n",
    "if hasattr(estimator, 'cv_results_'):\n",
    "    for key in ['mean_test_score', 'mean_train_score',\n",
    "                'param_method', 'param_variogram_model']:\n",
    "        print(' - {} : {}'.format(key, estimator.cv_results_[key]))\n",
    "\n",
    "\n",
    "\n",
    "# OK = OrdinaryKriging(lon, lat, z, variogram_model='linear', verbose=False,\n",
    "#                      enable_plotting=False, coordinates_type='geographic')\n",
    "\n",
    "# z1, ss1 = OK.execute('grid', lon, lat)\n",
    "# Create ordinary kriging object ignoring curvature:\n",
    "# OK = OrdinaryKriging(lon, lat, z, variogram_model='linear', verbose=False,\n",
    "#                      enable_plotting=False)\n",
    "# Execute on grid:\n",
    "# z2, ss2 = OK.execute('grid', lon, lat)\n"
   ]
  },
  {
   "cell_type": "code",
   "execution_count": null,
   "metadata": {},
   "outputs": [],
   "source": []
  },
  {
   "cell_type": "code",
   "execution_count": null,
   "metadata": {},
   "outputs": [],
   "source": []
  },
  {
   "cell_type": "code",
   "execution_count": null,
   "metadata": {},
   "outputs": [],
   "source": []
  }
 ],
 "metadata": {
  "kernelspec": {
   "display_name": "ccwEnv",
   "language": "python",
   "name": "ccwenv"
  },
  "language_info": {
   "codemirror_mode": {
    "name": "ipython",
    "version": 3
   },
   "file_extension": ".py",
   "mimetype": "text/x-python",
   "name": "python",
   "nbconvert_exporter": "python",
   "pygments_lexer": "ipython3",
   "version": "3.5.5"
  }
 },
 "nbformat": 4,
 "nbformat_minor": 2
}
